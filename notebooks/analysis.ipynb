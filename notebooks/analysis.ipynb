{
 "cells": [
  {
   "cell_type": "markdown",
   "metadata": {},
   "source": [
    "# Analysis"
   ]
  },
  {
   "cell_type": "markdown",
   "metadata": {},
   "source": [
    "### Importando as bibliotecas"
   ]
  },
  {
   "cell_type": "code",
   "execution_count": 1,
   "metadata": {},
   "outputs": [],
   "source": [
    "import sys\n",
    "sys.path.append('..')\n",
    "import pandas as pd\n",
    "import params.consts as consts"
   ]
  },
  {
   "cell_type": "markdown",
   "metadata": {},
   "source": [
    "### Lendo o dataset"
   ]
  },
  {
   "cell_type": "code",
   "execution_count": 2,
   "metadata": {},
   "outputs": [],
   "source": [
    "df = pd.read_csv(consts.DATASET) # Armazenando o dataset em uma variável"
   ]
  },
  {
   "cell_type": "code",
   "execution_count": 3,
   "metadata": {},
   "outputs": [
    {
     "data": {
      "text/html": [
       "<div>\n",
       "<style scoped>\n",
       "    .dataframe tbody tr th:only-of-type {\n",
       "        vertical-align: middle;\n",
       "    }\n",
       "\n",
       "    .dataframe tbody tr th {\n",
       "        vertical-align: top;\n",
       "    }\n",
       "\n",
       "    .dataframe thead th {\n",
       "        text-align: right;\n",
       "    }\n",
       "</style>\n",
       "<table border=\"1\" class=\"dataframe\">\n",
       "  <thead>\n",
       "    <tr style=\"text-align: right;\">\n",
       "      <th></th>\n",
       "      <th>order_number</th>\n",
       "      <th>order_date</th>\n",
       "      <th>category</th>\n",
       "      <th>customer_id</th>\n",
       "      <th>name</th>\n",
       "      <th>gender</th>\n",
       "      <th>country</th>\n",
       "      <th>order_quantity</th>\n",
       "      <th>sales_amount</th>\n",
       "      <th>total_product_cost</th>\n",
       "      <th>sales_profit</th>\n",
       "    </tr>\n",
       "  </thead>\n",
       "  <tbody>\n",
       "    <tr>\n",
       "      <th>0</th>\n",
       "      <td>SO51520</td>\n",
       "      <td>2013-01-18</td>\n",
       "      <td>Bikes</td>\n",
       "      <td>11015</td>\n",
       "      <td>Chloe Young</td>\n",
       "      <td>Female</td>\n",
       "      <td>United States</td>\n",
       "      <td>1</td>\n",
       "      <td>2319.99</td>\n",
       "      <td>1265.6195</td>\n",
       "      <td>1054.3705</td>\n",
       "    </tr>\n",
       "    <tr>\n",
       "      <th>1</th>\n",
       "      <td>SO52512</td>\n",
       "      <td>2013-02-09</td>\n",
       "      <td>Bikes</td>\n",
       "      <td>11016</td>\n",
       "      <td>Wyatt Hill</td>\n",
       "      <td>Male</td>\n",
       "      <td>United States</td>\n",
       "      <td>1</td>\n",
       "      <td>2294.99</td>\n",
       "      <td>1251.9813</td>\n",
       "      <td>1043.0087</td>\n",
       "    </tr>\n",
       "    <tr>\n",
       "      <th>2</th>\n",
       "      <td>SO51610</td>\n",
       "      <td>2013-01-23</td>\n",
       "      <td>Bikes</td>\n",
       "      <td>11021</td>\n",
       "      <td>Destiny Wilson</td>\n",
       "      <td>Female</td>\n",
       "      <td>United States</td>\n",
       "      <td>1</td>\n",
       "      <td>2294.99</td>\n",
       "      <td>1251.9813</td>\n",
       "      <td>1043.0087</td>\n",
       "    </tr>\n",
       "  </tbody>\n",
       "</table>\n",
       "</div>"
      ],
      "text/plain": [
       "  order_number  order_date category  customer_id            name  gender  \\\n",
       "0      SO51520  2013-01-18    Bikes        11015     Chloe Young  Female   \n",
       "1      SO52512  2013-02-09    Bikes        11016      Wyatt Hill    Male   \n",
       "2      SO51610  2013-01-23    Bikes        11021  Destiny Wilson  Female   \n",
       "\n",
       "         country  order_quantity  sales_amount  total_product_cost  \\\n",
       "0  United States               1       2319.99           1265.6195   \n",
       "1  United States               1       2294.99           1251.9813   \n",
       "2  United States               1       2294.99           1251.9813   \n",
       "\n",
       "   sales_profit  \n",
       "0     1054.3705  \n",
       "1     1043.0087  \n",
       "2     1043.0087  "
      ]
     },
     "metadata": {},
     "output_type": "display_data"
    },
    {
     "data": {
      "text/html": [
       "<div>\n",
       "<style scoped>\n",
       "    .dataframe tbody tr th:only-of-type {\n",
       "        vertical-align: middle;\n",
       "    }\n",
       "\n",
       "    .dataframe tbody tr th {\n",
       "        vertical-align: top;\n",
       "    }\n",
       "\n",
       "    .dataframe thead th {\n",
       "        text-align: right;\n",
       "    }\n",
       "</style>\n",
       "<table border=\"1\" class=\"dataframe\">\n",
       "  <thead>\n",
       "    <tr style=\"text-align: right;\">\n",
       "      <th></th>\n",
       "      <th>order_number</th>\n",
       "      <th>order_date</th>\n",
       "      <th>category</th>\n",
       "      <th>customer_id</th>\n",
       "      <th>name</th>\n",
       "      <th>gender</th>\n",
       "      <th>country</th>\n",
       "      <th>order_quantity</th>\n",
       "      <th>sales_amount</th>\n",
       "      <th>total_product_cost</th>\n",
       "      <th>sales_profit</th>\n",
       "    </tr>\n",
       "  </thead>\n",
       "  <tbody>\n",
       "    <tr>\n",
       "      <th>3262</th>\n",
       "      <td>SO68872</td>\n",
       "      <td>2013-10-21</td>\n",
       "      <td>Bikes</td>\n",
       "      <td>29276</td>\n",
       "      <td>Sydney Flores</td>\n",
       "      <td>Female</td>\n",
       "      <td>United States</td>\n",
       "      <td>1</td>\n",
       "      <td>742.35</td>\n",
       "      <td>461.4448</td>\n",
       "      <td>280.9052</td>\n",
       "    </tr>\n",
       "    <tr>\n",
       "      <th>3263</th>\n",
       "      <td>SO68725</td>\n",
       "      <td>2013-10-19</td>\n",
       "      <td>Bikes</td>\n",
       "      <td>29278</td>\n",
       "      <td>Janet Scott</td>\n",
       "      <td>Female</td>\n",
       "      <td>United States</td>\n",
       "      <td>1</td>\n",
       "      <td>742.35</td>\n",
       "      <td>461.4448</td>\n",
       "      <td>280.9052</td>\n",
       "    </tr>\n",
       "    <tr>\n",
       "      <th>3264</th>\n",
       "      <td>SO68389</td>\n",
       "      <td>2013-10-14</td>\n",
       "      <td>Bikes</td>\n",
       "      <td>29279</td>\n",
       "      <td>Hailey Turner</td>\n",
       "      <td>Female</td>\n",
       "      <td>United States</td>\n",
       "      <td>1</td>\n",
       "      <td>742.35</td>\n",
       "      <td>461.4448</td>\n",
       "      <td>280.9052</td>\n",
       "    </tr>\n",
       "  </tbody>\n",
       "</table>\n",
       "</div>"
      ],
      "text/plain": [
       "     order_number  order_date category  customer_id           name  gender  \\\n",
       "3262      SO68872  2013-10-21    Bikes        29276  Sydney Flores  Female   \n",
       "3263      SO68725  2013-10-19    Bikes        29278    Janet Scott  Female   \n",
       "3264      SO68389  2013-10-14    Bikes        29279  Hailey Turner  Female   \n",
       "\n",
       "            country  order_quantity  sales_amount  total_product_cost  \\\n",
       "3262  United States               1        742.35            461.4448   \n",
       "3263  United States               1        742.35            461.4448   \n",
       "3264  United States               1        742.35            461.4448   \n",
       "\n",
       "      sales_profit  \n",
       "3262      280.9052  \n",
       "3263      280.9052  \n",
       "3264      280.9052  "
      ]
     },
     "metadata": {},
     "output_type": "display_data"
    }
   ],
   "source": [
    "display(df.head(3)) # Exibindo as 3 primeiras linhas do dataset\n",
    "\n",
    "display(df.tail(3)) # Exibindo as 3 últimas linhas do dataset"
   ]
  },
  {
   "cell_type": "markdown",
   "metadata": {},
   "source": [
    "### Visualizando os detalhes do dataset"
   ]
  },
  {
   "cell_type": "code",
   "execution_count": 4,
   "metadata": {},
   "outputs": [
    {
     "name": "stdout",
     "output_type": "stream",
     "text": [
      "<class 'pandas.core.frame.DataFrame'>\n",
      "RangeIndex: 3265 entries, 0 to 3264\n",
      "Data columns (total 11 columns):\n",
      " #   Column              Non-Null Count  Dtype  \n",
      "---  ------              --------------  -----  \n",
      " 0   order_number        3265 non-null   object \n",
      " 1   order_date          3265 non-null   object \n",
      " 2   category            3265 non-null   object \n",
      " 3   customer_id         3265 non-null   int64  \n",
      " 4   name                3265 non-null   object \n",
      " 5   gender              3265 non-null   object \n",
      " 6   country             3265 non-null   object \n",
      " 7   order_quantity      3265 non-null   int64  \n",
      " 8   sales_amount        3265 non-null   float64\n",
      " 9   total_product_cost  3265 non-null   float64\n",
      " 10  sales_profit        3265 non-null   float64\n",
      "dtypes: float64(3), int64(2), object(6)\n",
      "memory usage: 280.7+ KB\n"
     ]
    }
   ],
   "source": [
    "df.info() # Exibindo as informações das variáveis do dataset"
   ]
  },
  {
   "cell_type": "markdown",
   "metadata": {},
   "source": [
    "### Visualizando as estatísticas das colunas numéricas"
   ]
  },
  {
   "cell_type": "code",
   "execution_count": 5,
   "metadata": {},
   "outputs": [
    {
     "data": {
      "text/html": [
       "<div>\n",
       "<style scoped>\n",
       "    .dataframe tbody tr th:only-of-type {\n",
       "        vertical-align: middle;\n",
       "    }\n",
       "\n",
       "    .dataframe tbody tr th {\n",
       "        vertical-align: top;\n",
       "    }\n",
       "\n",
       "    .dataframe thead th {\n",
       "        text-align: right;\n",
       "    }\n",
       "</style>\n",
       "<table border=\"1\" class=\"dataframe\">\n",
       "  <thead>\n",
       "    <tr style=\"text-align: right;\">\n",
       "      <th></th>\n",
       "      <th>customer_id</th>\n",
       "      <th>order_quantity</th>\n",
       "      <th>sales_amount</th>\n",
       "      <th>total_product_cost</th>\n",
       "      <th>sales_profit</th>\n",
       "    </tr>\n",
       "  </thead>\n",
       "  <tbody>\n",
       "    <tr>\n",
       "      <th>count</th>\n",
       "      <td>3265.000000</td>\n",
       "      <td>3265.0</td>\n",
       "      <td>3265.000000</td>\n",
       "      <td>3265.00000</td>\n",
       "      <td>3265.000000</td>\n",
       "    </tr>\n",
       "    <tr>\n",
       "      <th>mean</th>\n",
       "      <td>19444.692802</td>\n",
       "      <td>1.0</td>\n",
       "      <td>1559.050092</td>\n",
       "      <td>918.23470</td>\n",
       "      <td>640.815392</td>\n",
       "    </tr>\n",
       "    <tr>\n",
       "      <th>std</th>\n",
       "      <td>4881.119555</td>\n",
       "      <td>0.0</td>\n",
       "      <td>765.283636</td>\n",
       "      <td>437.29179</td>\n",
       "      <td>340.795437</td>\n",
       "    </tr>\n",
       "    <tr>\n",
       "      <th>min</th>\n",
       "      <td>11015.000000</td>\n",
       "      <td>1.0</td>\n",
       "      <td>539.990000</td>\n",
       "      <td>294.57970</td>\n",
       "      <td>196.340400</td>\n",
       "    </tr>\n",
       "    <tr>\n",
       "      <th>25%</th>\n",
       "      <td>15367.000000</td>\n",
       "      <td>1.0</td>\n",
       "      <td>742.350000</td>\n",
       "      <td>419.77840</td>\n",
       "      <td>280.905200</td>\n",
       "    </tr>\n",
       "    <tr>\n",
       "      <th>50%</th>\n",
       "      <td>19131.000000</td>\n",
       "      <td>1.0</td>\n",
       "      <td>1700.990000</td>\n",
       "      <td>1082.51000</td>\n",
       "      <td>618.480000</td>\n",
       "    </tr>\n",
       "    <tr>\n",
       "      <th>75%</th>\n",
       "      <td>23453.000000</td>\n",
       "      <td>1.0</td>\n",
       "      <td>2319.990000</td>\n",
       "      <td>1265.61950</td>\n",
       "      <td>1043.008700</td>\n",
       "    </tr>\n",
       "    <tr>\n",
       "      <th>max</th>\n",
       "      <td>29279.000000</td>\n",
       "      <td>1.0</td>\n",
       "      <td>2443.350000</td>\n",
       "      <td>1554.94790</td>\n",
       "      <td>1054.370500</td>\n",
       "    </tr>\n",
       "  </tbody>\n",
       "</table>\n",
       "</div>"
      ],
      "text/plain": [
       "        customer_id  order_quantity  sales_amount  total_product_cost  \\\n",
       "count   3265.000000          3265.0   3265.000000          3265.00000   \n",
       "mean   19444.692802             1.0   1559.050092           918.23470   \n",
       "std     4881.119555             0.0    765.283636           437.29179   \n",
       "min    11015.000000             1.0    539.990000           294.57970   \n",
       "25%    15367.000000             1.0    742.350000           419.77840   \n",
       "50%    19131.000000             1.0   1700.990000          1082.51000   \n",
       "75%    23453.000000             1.0   2319.990000          1265.61950   \n",
       "max    29279.000000             1.0   2443.350000          1554.94790   \n",
       "\n",
       "       sales_profit  \n",
       "count   3265.000000  \n",
       "mean     640.815392  \n",
       "std      340.795437  \n",
       "min      196.340400  \n",
       "25%      280.905200  \n",
       "50%      618.480000  \n",
       "75%     1043.008700  \n",
       "max     1054.370500  "
      ]
     },
     "execution_count": 5,
     "metadata": {},
     "output_type": "execute_result"
    }
   ],
   "source": [
    "df.describe() # Usando a função que exibe as estatísticas das colunas numéricas"
   ]
  },
  {
   "cell_type": "markdown",
   "metadata": {},
   "source": [
    "### Visualizando as estatísticas da colunas categóricas"
   ]
  },
  {
   "cell_type": "code",
   "execution_count": 6,
   "metadata": {},
   "outputs": [
    {
     "data": {
      "text/html": [
       "<div>\n",
       "<style scoped>\n",
       "    .dataframe tbody tr th:only-of-type {\n",
       "        vertical-align: middle;\n",
       "    }\n",
       "\n",
       "    .dataframe tbody tr th {\n",
       "        vertical-align: top;\n",
       "    }\n",
       "\n",
       "    .dataframe thead th {\n",
       "        text-align: right;\n",
       "    }\n",
       "</style>\n",
       "<table border=\"1\" class=\"dataframe\">\n",
       "  <thead>\n",
       "    <tr style=\"text-align: right;\">\n",
       "      <th></th>\n",
       "      <th>order_number</th>\n",
       "      <th>order_date</th>\n",
       "      <th>category</th>\n",
       "      <th>name</th>\n",
       "      <th>gender</th>\n",
       "      <th>country</th>\n",
       "    </tr>\n",
       "  </thead>\n",
       "  <tbody>\n",
       "    <tr>\n",
       "      <th>count</th>\n",
       "      <td>3265</td>\n",
       "      <td>3265</td>\n",
       "      <td>3265</td>\n",
       "      <td>3265</td>\n",
       "      <td>3265</td>\n",
       "      <td>3265</td>\n",
       "    </tr>\n",
       "    <tr>\n",
       "      <th>unique</th>\n",
       "      <td>3265</td>\n",
       "      <td>362</td>\n",
       "      <td>1</td>\n",
       "      <td>3244</td>\n",
       "      <td>2</td>\n",
       "      <td>1</td>\n",
       "    </tr>\n",
       "    <tr>\n",
       "      <th>top</th>\n",
       "      <td>SO51520</td>\n",
       "      <td>2013-11-06</td>\n",
       "      <td>Bikes</td>\n",
       "      <td>Kristi Perez</td>\n",
       "      <td>Female</td>\n",
       "      <td>United States</td>\n",
       "    </tr>\n",
       "    <tr>\n",
       "      <th>freq</th>\n",
       "      <td>1</td>\n",
       "      <td>23</td>\n",
       "      <td>3265</td>\n",
       "      <td>2</td>\n",
       "      <td>1678</td>\n",
       "      <td>3265</td>\n",
       "    </tr>\n",
       "  </tbody>\n",
       "</table>\n",
       "</div>"
      ],
      "text/plain": [
       "       order_number  order_date category          name  gender        country\n",
       "count          3265        3265     3265          3265    3265           3265\n",
       "unique         3265         362        1          3244       2              1\n",
       "top         SO51520  2013-11-06    Bikes  Kristi Perez  Female  United States\n",
       "freq              1          23     3265             2    1678           3265"
      ]
     },
     "execution_count": 6,
     "metadata": {},
     "output_type": "execute_result"
    }
   ],
   "source": [
    "df.describe(exclude='number') # Exibindo as estatísticas das colunas categóricas"
   ]
  },
  {
   "cell_type": "markdown",
   "metadata": {},
   "source": [
    "### Verificando as colunas com valores nulos"
   ]
  },
  {
   "cell_type": "code",
   "execution_count": 7,
   "metadata": {},
   "outputs": [
    {
     "data": {
      "text/plain": [
       "order_number          0\n",
       "order_date            0\n",
       "category              0\n",
       "customer_id           0\n",
       "name                  0\n",
       "gender                0\n",
       "country               0\n",
       "order_quantity        0\n",
       "sales_amount          0\n",
       "total_product_cost    0\n",
       "sales_profit          0\n",
       "dtype: int64"
      ]
     },
     "execution_count": 7,
     "metadata": {},
     "output_type": "execute_result"
    }
   ],
   "source": [
    "df.isnull().sum() # Somando todos os valores nulos de cada coluna"
   ]
  }
 ],
 "metadata": {
  "kernelspec": {
   "display_name": "Python 3",
   "language": "python",
   "name": "python3"
  },
  "language_info": {
   "codemirror_mode": {
    "name": "ipython",
    "version": 3
   },
   "file_extension": ".py",
   "mimetype": "text/x-python",
   "name": "python",
   "nbconvert_exporter": "python",
   "pygments_lexer": "ipython3",
   "version": "3.12.4"
  }
 },
 "nbformat": 4,
 "nbformat_minor": 2
}
