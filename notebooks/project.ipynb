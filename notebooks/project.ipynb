{
 "cells": [
  {
   "cell_type": "markdown",
   "metadata": {},
   "source": [
    "# Project"
   ]
  },
  {
   "cell_type": "markdown",
   "metadata": {},
   "source": [
    "### Importando as bibliotecas"
   ]
  },
  {
   "cell_type": "code",
   "execution_count": 1,
   "metadata": {},
   "outputs": [],
   "source": [
    "import sys\n",
    "sys.path.append('..')\n",
    "import pandas as pd\n",
    "import pyodbc\n",
    "from sqlalchemy import create_engine\n",
    "import params.consts as consts"
   ]
  },
  {
   "cell_type": "markdown",
   "metadata": {},
   "source": [
    "### Conectando com o banco de dados"
   ]
  },
  {
   "cell_type": "code",
   "execution_count": 2,
   "metadata": {},
   "outputs": [
    {
     "name": "stdout",
     "output_type": "stream",
     "text": [
      "Conexão realizada com sucesso.\n"
     ]
    }
   ],
   "source": [
    "driver = 'SQL+Server' # Passando o nome do programa a ser utilizado (com + onde é espaço)\n",
    "server = 'GalaxyBook2-360' # Passando o nome do servidor/usuário. Para descobrir, basta digitar no cmd hostname\n",
    "database = 'AdventureWorksDW2022' # Passando o nome do banco de dados a ser consultado\n",
    "\n",
    "engine = create_engine(f'mssql+pyodbc://{server}/{database}?driver={driver}') # Fazendo a conexão com o banco de dados\n",
    "\n",
    "print('Conexão realizada com sucesso.') # Confirmando que a conexão foi realizada com sucesso"
   ]
  },
  {
   "cell_type": "markdown",
   "metadata": {},
   "source": [
    "### Consultando o banco de dados"
   ]
  },
  {
   "cell_type": "code",
   "execution_count": 3,
   "metadata": {},
   "outputs": [],
   "source": [
    "sql_code = ''' \n",
    "    SELECT TOP (100)\n",
    "        fis.SalesOrderNumber AS 'order_number',\n",
    "        fis.OrderDate AS 'order_date',\n",
    "        dpc.EnglishProductCategoryName AS 'category',\n",
    "        fis.CustomerKey AS 'customer_id',\n",
    "        dc.FirstName + ' ' + dc.LastName AS 'name',\n",
    "        REPLACE(REPLACE(dc.Gender, 'M','Male'), 'F', 'Female') AS 'gender',\n",
    "        dg.EnglishCountryRegionName AS 'country',\n",
    "        fis.OrderQuantity AS 'order_quantity',\n",
    "        fis.SalesAmount AS 'sales_amount',\n",
    "        fis.TotalProductCost AS 'total_product_cost',\n",
    "        fis.SalesAmount - fis.TotalProductCost AS 'sales_profit'\n",
    "    FROM\n",
    "        FactInternetSales fis\n",
    "    INNER JOIN DimProduct dp ON fis.ProductKey = dp.ProductKey\n",
    "        INNER JOIN DimProductSubcategory dps ON dp.ProductSubcategoryKey = dps.ProductSubcategoryKey\n",
    "            INNER JOIN DimProductCategory dpc ON dps.ProductCategoryKey = dpc.ProductCategoryKey\n",
    "    INNER JOIN DimCustomer dc ON fis.CustomerKey = dc.CustomerKey\n",
    "        INNER JOIN DimGeography dg ON dc.GeographyKey = dg.GeographyKey\n",
    "    WHERE YEAR(fis.OrderDate) = 2013\n",
    "''' # Escrevendo o código em SQL para consultar os dados\n",
    "\n",
    "df = pd.read_sql(sql_code, engine) # Consultando o banco de dados e criando um dataset com os dados extraídos"
   ]
  },
  {
   "cell_type": "markdown",
   "metadata": {},
   "source": [
    "### Visualizando o dataset"
   ]
  },
  {
   "cell_type": "code",
   "execution_count": 4,
   "metadata": {},
   "outputs": [
    {
     "data": {
      "text/html": [
       "<div>\n",
       "<style scoped>\n",
       "    .dataframe tbody tr th:only-of-type {\n",
       "        vertical-align: middle;\n",
       "    }\n",
       "\n",
       "    .dataframe tbody tr th {\n",
       "        vertical-align: top;\n",
       "    }\n",
       "\n",
       "    .dataframe thead th {\n",
       "        text-align: right;\n",
       "    }\n",
       "</style>\n",
       "<table border=\"1\" class=\"dataframe\">\n",
       "  <thead>\n",
       "    <tr style=\"text-align: right;\">\n",
       "      <th></th>\n",
       "      <th>order_number</th>\n",
       "      <th>order_date</th>\n",
       "      <th>category</th>\n",
       "      <th>customer_id</th>\n",
       "      <th>name</th>\n",
       "      <th>gender</th>\n",
       "      <th>country</th>\n",
       "      <th>order_quantity</th>\n",
       "      <th>sales_amount</th>\n",
       "      <th>total_product_cost</th>\n",
       "      <th>sales_profit</th>\n",
       "    </tr>\n",
       "  </thead>\n",
       "  <tbody>\n",
       "    <tr>\n",
       "      <th>0</th>\n",
       "      <td>SO51250</td>\n",
       "      <td>2013-01-01</td>\n",
       "      <td>Clothing</td>\n",
       "      <td>19360</td>\n",
       "      <td>Joanna Hernandez</td>\n",
       "      <td>Female</td>\n",
       "      <td>United Kingdom</td>\n",
       "      <td>1</td>\n",
       "      <td>53.99</td>\n",
       "      <td>41.5723</td>\n",
       "      <td>12.4177</td>\n",
       "    </tr>\n",
       "    <tr>\n",
       "      <th>1</th>\n",
       "      <td>SO51259</td>\n",
       "      <td>2013-01-01</td>\n",
       "      <td>Bikes</td>\n",
       "      <td>11433</td>\n",
       "      <td>Maurice Shan</td>\n",
       "      <td>Male</td>\n",
       "      <td>France</td>\n",
       "      <td>1</td>\n",
       "      <td>2384.07</td>\n",
       "      <td>1481.9379</td>\n",
       "      <td>902.1321</td>\n",
       "    </tr>\n",
       "    <tr>\n",
       "      <th>2</th>\n",
       "      <td>SO51259</td>\n",
       "      <td>2013-01-01</td>\n",
       "      <td>Accessories</td>\n",
       "      <td>11433</td>\n",
       "      <td>Maurice Shan</td>\n",
       "      <td>Male</td>\n",
       "      <td>France</td>\n",
       "      <td>1</td>\n",
       "      <td>8.99</td>\n",
       "      <td>3.3623</td>\n",
       "      <td>5.6277</td>\n",
       "    </tr>\n",
       "    <tr>\n",
       "      <th>3</th>\n",
       "      <td>SO51259</td>\n",
       "      <td>2013-01-01</td>\n",
       "      <td>Accessories</td>\n",
       "      <td>11433</td>\n",
       "      <td>Maurice Shan</td>\n",
       "      <td>Male</td>\n",
       "      <td>France</td>\n",
       "      <td>1</td>\n",
       "      <td>4.99</td>\n",
       "      <td>1.8663</td>\n",
       "      <td>3.1237</td>\n",
       "    </tr>\n",
       "    <tr>\n",
       "      <th>4</th>\n",
       "      <td>SO51259</td>\n",
       "      <td>2013-01-01</td>\n",
       "      <td>Accessories</td>\n",
       "      <td>11433</td>\n",
       "      <td>Maurice Shan</td>\n",
       "      <td>Male</td>\n",
       "      <td>France</td>\n",
       "      <td>1</td>\n",
       "      <td>34.99</td>\n",
       "      <td>13.0863</td>\n",
       "      <td>21.9037</td>\n",
       "    </tr>\n",
       "  </tbody>\n",
       "</table>\n",
       "</div>"
      ],
      "text/plain": [
       "  order_number order_date     category  customer_id              name  gender  \\\n",
       "0      SO51250 2013-01-01     Clothing        19360  Joanna Hernandez  Female   \n",
       "1      SO51259 2013-01-01        Bikes        11433      Maurice Shan    Male   \n",
       "2      SO51259 2013-01-01  Accessories        11433      Maurice Shan    Male   \n",
       "3      SO51259 2013-01-01  Accessories        11433      Maurice Shan    Male   \n",
       "4      SO51259 2013-01-01  Accessories        11433      Maurice Shan    Male   \n",
       "\n",
       "          country  order_quantity  sales_amount  total_product_cost  \\\n",
       "0  United Kingdom               1         53.99             41.5723   \n",
       "1          France               1       2384.07           1481.9379   \n",
       "2          France               1          8.99              3.3623   \n",
       "3          France               1          4.99              1.8663   \n",
       "4          France               1         34.99             13.0863   \n",
       "\n",
       "   sales_profit  \n",
       "0       12.4177  \n",
       "1      902.1321  \n",
       "2        5.6277  \n",
       "3        3.1237  \n",
       "4       21.9037  "
      ]
     },
     "execution_count": 4,
     "metadata": {},
     "output_type": "execute_result"
    }
   ],
   "source": [
    "df.head() # Exibindo o início do dataset"
   ]
  },
  {
   "cell_type": "code",
   "execution_count": 5,
   "metadata": {},
   "outputs": [
    {
     "data": {
      "text/html": [
       "<div>\n",
       "<style scoped>\n",
       "    .dataframe tbody tr th:only-of-type {\n",
       "        vertical-align: middle;\n",
       "    }\n",
       "\n",
       "    .dataframe tbody tr th {\n",
       "        vertical-align: top;\n",
       "    }\n",
       "\n",
       "    .dataframe thead th {\n",
       "        text-align: right;\n",
       "    }\n",
       "</style>\n",
       "<table border=\"1\" class=\"dataframe\">\n",
       "  <thead>\n",
       "    <tr style=\"text-align: right;\">\n",
       "      <th></th>\n",
       "      <th>order_number</th>\n",
       "      <th>order_date</th>\n",
       "      <th>category</th>\n",
       "      <th>customer_id</th>\n",
       "      <th>name</th>\n",
       "      <th>gender</th>\n",
       "      <th>country</th>\n",
       "      <th>order_quantity</th>\n",
       "      <th>sales_amount</th>\n",
       "      <th>total_product_cost</th>\n",
       "      <th>sales_profit</th>\n",
       "    </tr>\n",
       "  </thead>\n",
       "  <tbody>\n",
       "    <tr>\n",
       "      <th>95</th>\n",
       "      <td>SO51365</td>\n",
       "      <td>2013-01-08</td>\n",
       "      <td>Accessories</td>\n",
       "      <td>11156</td>\n",
       "      <td>Maria Roberts</td>\n",
       "      <td>Female</td>\n",
       "      <td>United States</td>\n",
       "      <td>1</td>\n",
       "      <td>54.99</td>\n",
       "      <td>20.5663</td>\n",
       "      <td>34.4237</td>\n",
       "    </tr>\n",
       "    <tr>\n",
       "      <th>96</th>\n",
       "      <td>SO51360</td>\n",
       "      <td>2013-01-08</td>\n",
       "      <td>Bikes</td>\n",
       "      <td>11388</td>\n",
       "      <td>Joseph Martin</td>\n",
       "      <td>Male</td>\n",
       "      <td>United Kingdom</td>\n",
       "      <td>1</td>\n",
       "      <td>2319.99</td>\n",
       "      <td>1265.6195</td>\n",
       "      <td>1054.3705</td>\n",
       "    </tr>\n",
       "    <tr>\n",
       "      <th>97</th>\n",
       "      <td>SO51358</td>\n",
       "      <td>2013-01-07</td>\n",
       "      <td>Accessories</td>\n",
       "      <td>17833</td>\n",
       "      <td>Monique Suarez</td>\n",
       "      <td>Female</td>\n",
       "      <td>Germany</td>\n",
       "      <td>1</td>\n",
       "      <td>2.29</td>\n",
       "      <td>0.8565</td>\n",
       "      <td>1.4335</td>\n",
       "    </tr>\n",
       "    <tr>\n",
       "      <th>98</th>\n",
       "      <td>SO51358</td>\n",
       "      <td>2013-01-07</td>\n",
       "      <td>Accessories</td>\n",
       "      <td>17833</td>\n",
       "      <td>Monique Suarez</td>\n",
       "      <td>Female</td>\n",
       "      <td>Germany</td>\n",
       "      <td>1</td>\n",
       "      <td>4.99</td>\n",
       "      <td>1.8663</td>\n",
       "      <td>3.1237</td>\n",
       "    </tr>\n",
       "    <tr>\n",
       "      <th>99</th>\n",
       "      <td>SO51358</td>\n",
       "      <td>2013-01-07</td>\n",
       "      <td>Accessories</td>\n",
       "      <td>17833</td>\n",
       "      <td>Monique Suarez</td>\n",
       "      <td>Female</td>\n",
       "      <td>Germany</td>\n",
       "      <td>1</td>\n",
       "      <td>28.99</td>\n",
       "      <td>10.8423</td>\n",
       "      <td>18.1477</td>\n",
       "    </tr>\n",
       "  </tbody>\n",
       "</table>\n",
       "</div>"
      ],
      "text/plain": [
       "   order_number order_date     category  customer_id            name  gender  \\\n",
       "95      SO51365 2013-01-08  Accessories        11156   Maria Roberts  Female   \n",
       "96      SO51360 2013-01-08        Bikes        11388   Joseph Martin    Male   \n",
       "97      SO51358 2013-01-07  Accessories        17833  Monique Suarez  Female   \n",
       "98      SO51358 2013-01-07  Accessories        17833  Monique Suarez  Female   \n",
       "99      SO51358 2013-01-07  Accessories        17833  Monique Suarez  Female   \n",
       "\n",
       "           country  order_quantity  sales_amount  total_product_cost  \\\n",
       "95   United States               1         54.99             20.5663   \n",
       "96  United Kingdom               1       2319.99           1265.6195   \n",
       "97         Germany               1          2.29              0.8565   \n",
       "98         Germany               1          4.99              1.8663   \n",
       "99         Germany               1         28.99             10.8423   \n",
       "\n",
       "    sales_profit  \n",
       "95       34.4237  \n",
       "96     1054.3705  \n",
       "97        1.4335  \n",
       "98        3.1237  \n",
       "99       18.1477  "
      ]
     },
     "execution_count": 5,
     "metadata": {},
     "output_type": "execute_result"
    }
   ],
   "source": [
    "df.tail() # Exibindo o fim do dataset"
   ]
  },
  {
   "cell_type": "markdown",
   "metadata": {},
   "source": [
    "### Salvando o dataset"
   ]
  },
  {
   "cell_type": "code",
   "execution_count": 6,
   "metadata": {},
   "outputs": [],
   "source": [
    "df.to_csv(consts.DATASET, index=False) # Salvando o dataset em formato csv"
   ]
  }
 ],
 "metadata": {
  "kernelspec": {
   "display_name": "Python 3",
   "language": "python",
   "name": "python3"
  },
  "language_info": {
   "codemirror_mode": {
    "name": "ipython",
    "version": 3
   },
   "file_extension": ".py",
   "mimetype": "text/x-python",
   "name": "python",
   "nbconvert_exporter": "python",
   "pygments_lexer": "ipython3",
   "version": "3.12.4"
  }
 },
 "nbformat": 4,
 "nbformat_minor": 2
}
